{
 "cells": [
  {
   "cell_type": "code",
   "execution_count": 9,
   "metadata": {},
   "outputs": [],
   "source": [
    "import pandas as pd\n",
    "from sklearn.linear_model import LinearRegression\n",
    "from sklearn.neighbors.regression import KNeighborsRegressor\n",
    "from sklearn.metrics import mean_squared_error,r2_score\n"
   ]
  },
  {
   "cell_type": "code",
   "execution_count": 3,
   "metadata": {},
   "outputs": [],
   "source": [
    "def health_smoothing(df,health,cols,rad=10):\n",
    "    X=df[cols] #features\n",
    "    y=df[health] #data\n",
    "\n",
    "    knn= KNeighborsRegressor(n_neighbors=rad).fit(X,y) #fit KNN for smoothing\n",
    "    \n",
    "    Y=knn.predict(X) #smoothed column\n",
    "    df[health+'-smooth']=Y #make new column in dataframe\n",
    "    return df\n",
    "\n",
    "def regression_details(X,y,linreg,nhb,cols,health):\n",
    "      #write a report\n",
    "    Y=linreg.predict(X)\n",
    "    print(\"For\",health,\"the features are \",cols,\"and the number of neighbors is\",nhb)\n",
    "    print(\"For\",health,\"the coiefficients are\",str(linreg.coef_))\n",
    "    print(\"For\",health,\"the intercept is\",str(linreg.intercept_))\n",
    "    print(\"For\",health,\"the R2 score is\",str(r2_score(Y,y)))\n",
    "    print('')\n",
    " \n",
    "    "
   ]
  },
  {
   "cell_type": "code",
   "execution_count": 2,
   "metadata": {},
   "outputs": [
    {
     "data": {
      "text/plain": [
       "Index(['TractFIPS', 'no-obesity', 'sleep >7', 'no-asthma',\n",
       "       'no-mental-health-prob', 'commute', 'pollution', 'density', 'safety',\n",
       "       'lat', 'long'],\n",
       "      dtype='object')"
      ]
     },
     "execution_count": 2,
     "metadata": {},
     "output_type": "execute_result"
    }
   ],
   "source": [
    "df_main=pd.read_csv(\"data/normalized-health-and-environmental-train.csv\")\n",
    "df_main.columns"
   ]
  },
  {
   "cell_type": "code",
   "execution_count": 18,
   "metadata": {},
   "outputs": [
    {
     "name": "stdout",
     "output_type": "stream",
     "text": [
      "For no-obesity the features are  ['commute', 'safety', 'density', 'pollution'] and the number of neighbors is 500\n",
      "For no-obesity the coiefficients are [ 0.10309197  0.16077573  0.04017918 -0.03005961]\n",
      "For no-obesity the intercept is 57.49996858454858\n",
      "For no-obesity the R2 score is 0.46236838767512045\n",
      "\n",
      "For sleep >7 the features are  ['density', 'commute', 'pollution', 'safety'] and the number of neighbors is 500\n",
      "For sleep >7 the coiefficients are [-0.04563411 -0.08754074  0.01920954  0.14112566]\n",
      "For sleep >7 the intercept is 60.50992222453769\n",
      "For sleep >7 the R2 score is 0.831807621408943\n",
      "\n",
      "For no-asthma the features are  ['density', 'pollution'] and the number of neighbors is 500\n",
      "For no-asthma the coiefficients are [-0.0214886   0.00382127]\n",
      "For no-asthma the intercept is 91.24552109256437\n",
      "For no-asthma the R2 score is 0.18948611268416948\n",
      "\n",
      "For no-mental-health-prob the features are  ['commute', 'safety', 'density', 'pollution'] and the number of neighbors is 500\n",
      "For no-mental-health-prob the coiefficients are [ 0.04121729  0.05386938 -0.02128061  0.00663793]\n",
      "For no-mental-health-prob the intercept is 83.76509566888417\n",
      "For no-mental-health-prob the R2 score is 0.45437540212124494\n",
      "\n"
     ]
    }
   ],
   "source": [
    "#this dictionary is a very liberal inclusion of features\n",
    "D=({'no-asthma':['density',\"pollution\"], \n",
    "    'sleep >7':['density','commute','pollution','safety'],\n",
    "    'no-obesity':['commute', 'safety','density','pollution'],\n",
    "    'no-mental-health-prob':['commute', 'safety','density','pollution']})\n",
    "\n",
    "for health in ['no-obesity', 'sleep >7', 'no-asthma','no-mental-health-prob']:\n",
    "    df_smooth=health_smoothing(df_main,health,D[health],500) #use 500 neighbors as default\n",
    "    smoothed_col=health+\"-smooth\" #name of smoothed column\n",
    "    \n",
    "    X=df_smooth[D[health]]\n",
    "    y=df_smooth[smoothed_col]\n",
    "    linreg=LinearRegression().fit(X,y) #fit a linear model\n",
    "    regression_details(X,y,linreg,500,D[health],health) #print out details of model"
   ]
  },
  {
   "cell_type": "markdown",
   "metadata": {},
   "source": [
    "Pollution seems to be a very weak indictor. I believe this is due to the pollution measure I am using, which appears to be normalized in some strang way.  I have thus decided to drop pollution.\n",
    "\n",
    "Safety seems to be too strong an indictor for sleep and may be tracking with income. I will drop this feature for sleep."
   ]
  },
  {
   "cell_type": "code",
   "execution_count": 19,
   "metadata": {},
   "outputs": [
    {
     "name": "stdout",
     "output_type": "stream",
     "text": [
      "For no-obesity the features are  ['commute', 'safety', 'density'] and the number of neighbors is 500\n",
      "For no-obesity the coiefficients are [0.13356146 0.18214074 0.06562914]\n",
      "For no-obesity the intercept is 53.323411561400285\n",
      "For no-obesity the R2 score is 0.5608850018124318\n",
      "\n",
      "For sleep >7 the features are  ['density', 'commute'] and the number of neighbors is 500\n",
      "For sleep >7 the coiefficients are [-0.07217333 -0.15240359]\n",
      "For sleep >7 the intercept is 71.45873028853912\n",
      "For sleep >7 the R2 score is 0.8856411895284388\n",
      "\n",
      "For no-asthma the features are  ['density'] and the number of neighbors is 500\n",
      "For no-asthma the coiefficients are [-0.02795549]\n",
      "For no-asthma the intercept is 91.69058471847006\n",
      "For no-asthma the R2 score is 0.8415084017548302\n",
      "\n",
      "For no-mental-health-prob the features are  ['commute', 'safety', 'density'] and the number of neighbors is 500\n",
      "For no-mental-health-prob the coiefficients are [ 0.04787835  0.06580066 -0.03266286]\n",
      "For no-mental-health-prob the intercept is 83.76394694209603\n",
      "For no-mental-health-prob the R2 score is 0.3512134691483615\n",
      "\n"
     ]
    }
   ],
   "source": [
    "#This dictionary gives the features that I reasonably expect to have a relationship with the quantity to be predicted.\n",
    "#These choices are backed up by public health studies which show correlations.\n",
    "\n",
    "D=({'no-asthma':['density'], \n",
    "    'sleep >7':['density','commute'],\n",
    "    'no-obesity':['commute', 'safety','density'],\n",
    "    'no-mental-health-prob':['commute', 'safety','density']})\n",
    "\n",
    "for health in ['no-obesity', 'sleep >7', 'no-asthma','no-mental-health-prob']:\n",
    "    df_smooth=health_smoothing(df_main,health,D[health],500) #use 500 neighbors as default\n",
    "    smoothed_col=health+\"-smooth\" #name of smoothed column\n",
    "    \n",
    "    X=df_smooth[D[health]]\n",
    "    y=df_smooth[smoothed_col]\n",
    "    linreg=LinearRegression().fit(X,y) #fit a linear model\n",
    "    regression_details(X,y,linreg,500,D[health],health) #print out details of model\n"
   ]
  },
  {
   "cell_type": "markdown",
   "metadata": {},
   "source": [
    "Mental health does not seem to admit a linear relationship after smoothing. I will drop this health issue. "
   ]
  }
 ],
 "metadata": {
  "kernelspec": {
   "display_name": "Python 3",
   "language": "python",
   "name": "python3"
  },
  "language_info": {
   "codemirror_mode": {
    "name": "ipython",
    "version": 3
   },
   "file_extension": ".py",
   "mimetype": "text/x-python",
   "name": "python",
   "nbconvert_exporter": "python",
   "pygments_lexer": "ipython3",
   "version": "3.7.3"
  }
 },
 "nbformat": 4,
 "nbformat_minor": 2
}
