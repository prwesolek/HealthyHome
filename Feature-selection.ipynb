{
 "cells": [
  {
   "cell_type": "markdown",
   "metadata": {},
   "source": [
    "# Feature Selection\n",
    "\n",
    "## Feature exploration\n",
    "The next few cells use linear regressions to explore feature importance. "
   ]
  },
  {
   "cell_type": "code",
   "execution_count": 1,
   "metadata": {},
   "outputs": [],
   "source": [
    "import pandas as pd\n",
    "from sklearn.linear_model import LinearRegression\n",
    "from sklearn.neighbors.regression import KNeighborsRegressor\n",
    "from sklearn.metrics import mean_squared_error,r2_score\n"
   ]
  },
  {
   "cell_type": "code",
   "execution_count": 2,
   "metadata": {},
   "outputs": [],
   "source": [
    "def health_smoothing(df,health,cols,rad=10):\n",
    "    X=df[cols] #features\n",
    "    y=df[health] #value to be predicted\n",
    "\n",
    "    knn= KNeighborsRegressor(n_neighbors=rad).fit(X,y) #fit KNN for smoothing\n",
    "    \n",
    "    Y=knn.predict(X) #smoothed column\n",
    "    df[health+'-smooth']=Y #make new column in dataframe\n",
    "    return df\n",
    "\n",
    "def regression_details(X,y,linreg,nhb,cols,health):\n",
    "      #write a report\n",
    "    Y=linreg.predict(X)\n",
    "    print(\"For\",health,\"the features are \",cols,\"and the number of neighbors is\",nhb)\n",
    "    print(\"For\",health,\"the coiefficients are\",str(linreg.coef_))\n",
    "    print(\"For\",health,\"the intercept is\",str(linreg.intercept_))\n",
    "    print(\"For\",health,\"the R2 score is\",str(r2_score(Y,y)))\n",
    "    print('')\n",
    " \n",
    "    "
   ]
  },
  {
   "cell_type": "code",
   "execution_count": 3,
   "metadata": {},
   "outputs": [],
   "source": [
    "df_main=pd.read_csv(\"data/normalized-health-and-environmental-train.csv\") #read in data"
   ]
  },
  {
   "cell_type": "code",
   "execution_count": 4,
   "metadata": {},
   "outputs": [
    {
     "name": "stdout",
     "output_type": "stream",
     "text": [
      "For no-obesity the features are  ['commute', 'safety', 'density', 'pollution'] and the number of neighbors is 500\n",
      "For no-obesity the coiefficients are [ 0.09676281  0.16532088  0.04569635 -0.03040415]\n",
      "For no-obesity the intercept is 57.22395662824114\n",
      "For no-obesity the R2 score is 0.4369665068762024\n",
      "\n",
      "For sleep >7 the features are  ['density', 'commute', 'pollution', 'safety'] and the number of neighbors is 500\n",
      "For sleep >7 the coiefficients are [-0.04181844 -0.09351287  0.02204634  0.14236295]\n",
      "For sleep >7 the intercept is 60.356156810529804\n",
      "For sleep >7 the R2 score is 0.8119243635869375\n",
      "\n",
      "For no-asthma the features are  ['density', 'pollution'] and the number of neighbors is 500\n",
      "For no-asthma the coiefficients are [-0.02245156  0.00429997]\n",
      "For no-asthma the intercept is 91.27795288857524\n",
      "For no-asthma the R2 score is 0.006786551957914222\n",
      "\n",
      "For no-mental-health-prob the features are  ['commute', 'safety', 'density', 'pollution'] and the number of neighbors is 500\n",
      "For no-mental-health-prob the coiefficients are [ 0.04237424  0.05470684 -0.02133982  0.00665969]\n",
      "For no-mental-health-prob the intercept is 83.72918455294672\n",
      "For no-mental-health-prob the R2 score is 0.4561676631723668\n",
      "\n"
     ]
    }
   ],
   "source": [
    "#this dictionary has the health issue as keys and the intuitively reasonable features as values\n",
    "D=({'no-asthma':['density',\"pollution\"], \n",
    "    'sleep >7':['density','commute','pollution','safety'],\n",
    "    'no-obesity':['commute', 'safety','density','pollution'],\n",
    "    'no-mental-health-prob':['commute', 'safety','density','pollution']})\n",
    "\n",
    "for health in ['no-obesity', 'sleep >7', 'no-asthma','no-mental-health-prob']:\n",
    "    df_smooth=health_smoothing(df_main,health,D[health],500) #get smoothed column, with 500 neighbors as default\n",
    "    smoothed_col=health+\"-smooth\" #name of smoothed column\n",
    "    \n",
    "    X=df_smooth[D[health]] #predictors\n",
    "    y=df_smooth[smoothed_col] #value to be predicted\n",
    "    linreg=LinearRegression().fit(X,y) #fit a linear model\n",
    "    regression_details(X,y,linreg,500,D[health],health) #print out details of model"
   ]
  },
  {
   "cell_type": "markdown",
   "metadata": {},
   "source": [
    "Pollution seems to make a very weak contribution in all models. I believe this is due to the pollution measure I am using, which appears to be normalized in a strange way.  I have thus decided to drop pollution as a feature.\n",
    "\n",
    "Safety seems to make too strong a contribution for sleep and may be tracking with income. I will drop this feature for sleep."
   ]
  },
  {
   "cell_type": "markdown",
   "metadata": {},
   "source": [
    "## Final feature choice\n",
    "\n",
    "In view of the above analysis, the feature are reduced; the cells below run the analysis for the reduced features. The final choices of features are also backed up by public health studies which show the relevant correlations.\n"
   ]
  },
  {
   "cell_type": "code",
   "execution_count": 5,
   "metadata": {},
   "outputs": [
    {
     "name": "stdout",
     "output_type": "stream",
     "text": [
      "For no-obesity the features are  ['commute', 'safety', 'density'] and the number of neighbors is 500\n",
      "For no-obesity the coiefficients are [0.12986991 0.18869269 0.07403741]\n",
      "For no-obesity the intercept is 52.72524906011252\n",
      "For no-obesity the R2 score is 0.5639151945795638\n",
      "\n",
      "For sleep >7 the features are  ['density', 'commute'] and the number of neighbors is 500\n",
      "For sleep >7 the coiefficients are [-0.07330155 -0.15554615]\n",
      "For sleep >7 the intercept is 71.63079456065783\n",
      "For sleep >7 the R2 score is 0.8464256317780325\n",
      "\n",
      "For no-asthma the features are  ['density'] and the number of neighbors is 500\n",
      "For no-asthma the coiefficients are [-0.02849861]\n",
      "For no-asthma the intercept is 91.71995955868424\n",
      "For no-asthma the R2 score is 0.8495184357823231\n",
      "\n",
      "For no-mental-health-prob the features are  ['commute', 'safety', 'density'] and the number of neighbors is 500\n",
      "For no-mental-health-prob the coiefficients are [ 0.05076365  0.06694088 -0.0327032 ]\n",
      "For no-mental-health-prob the intercept is 83.65601851261212\n",
      "For no-mental-health-prob the R2 score is 0.37828259272716\n",
      "\n"
     ]
    }
   ],
   "source": [
    "#This dictionary has the reduced feature lists as values\n",
    "D=({'no-asthma':['density'], \n",
    "    'sleep >7':['density','commute'],\n",
    "    'no-obesity':['commute', 'safety','density'],\n",
    "    'no-mental-health-prob':['commute', 'safety','density']})\n",
    "\n",
    "for health in ['no-obesity', 'sleep >7', 'no-asthma','no-mental-health-prob']:\n",
    "    df_smooth=health_smoothing(df_main,health,D[health],500) #use 500 neighbors as default\n",
    "    smoothed_col=health+\"-smooth\" #name of smoothed column\n",
    "    \n",
    "    X=df_smooth[D[health]]\n",
    "    y=df_smooth[smoothed_col]\n",
    "    linreg=LinearRegression().fit(X,y) #fit a linear model\n",
    "    regression_details(X,y,linreg,500,D[health],health) #print out details of model\n"
   ]
  },
  {
   "cell_type": "markdown",
   "metadata": {},
   "source": [
    "The R2 scores increased after reducing the features, suggesting the feature reductions are sound.\n",
    "\n",
    "Mental health does not seem to admit a linear model, despite smoothing. I will drop this health issue. \n"
   ]
  }
 ],
 "metadata": {
  "kernelspec": {
   "display_name": "Python 3",
   "language": "python",
   "name": "python3"
  },
  "language_info": {
   "codemirror_mode": {
    "name": "ipython",
    "version": 3
   },
   "file_extension": ".py",
   "mimetype": "text/x-python",
   "name": "python",
   "nbconvert_exporter": "python",
   "pygments_lexer": "ipython3",
   "version": "3.7.3"
  }
 },
 "nbformat": 4,
 "nbformat_minor": 2
}
